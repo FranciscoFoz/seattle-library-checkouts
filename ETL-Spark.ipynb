{
 "cells": [
  {
   "attachments": {},
   "cell_type": "markdown",
   "metadata": {},
   "source": [
    "# Library Checkouts - ETL Spark\n"
   ]
  },
  {
   "attachments": {},
   "cell_type": "markdown",
   "metadata": {},
   "source": [
    "https://spark.apache.org/docs/latest/api/python/user_guide/index.html"
   ]
  },
  {
   "cell_type": "code",
   "execution_count": 1,
   "metadata": {},
   "outputs": [],
   "source": [
    "import os\n",
    "\n",
    "os.environ['SPARK_HOME'] = 'C:\\spark\\spark-3.1.2-bin-hadoop2.7'\n",
    "os.environ['JAVA_HOME'] = 'C:\\Program Files\\Java\\jre1.8.0_361'\n",
    "os.environ['HADOOP_HOME'] = 'C:\\spark\\spark-3.2.1-bin-hadoop2.7\\hadoop'\n",
    "\n",
    "import findspark\n",
    "findspark.init()\n",
    "\n",
    "from pyspark.sql import SparkSession\n",
    "\n",
    "spark = SparkSession.builder\\\n",
    "    .master('local[*]')\\\n",
    "    .appName(\"Iniciando com Spark\")\\\n",
    "    .config('spark.ui.port', '4050')\\\n",
    "    .getOrCreate()\n",
    "\n",
    "\n"
   ]
  },
  {
   "cell_type": "code",
   "execution_count": 2,
   "metadata": {},
   "outputs": [
    {
     "data": {
      "text/html": [
       "\n",
       "            <div>\n",
       "                <p><b>SparkSession - in-memory</b></p>\n",
       "                \n",
       "        <div>\n",
       "            <p><b>SparkContext</b></p>\n",
       "\n",
       "            <p><a href=\"http://192.168.0.14:4050\">Spark UI</a></p>\n",
       "\n",
       "            <dl>\n",
       "              <dt>Version</dt>\n",
       "                <dd><code>v3.1.2</code></dd>\n",
       "              <dt>Master</dt>\n",
       "                <dd><code>local[*]</code></dd>\n",
       "              <dt>AppName</dt>\n",
       "                <dd><code>Iniciando com Spark</code></dd>\n",
       "            </dl>\n",
       "        </div>\n",
       "        \n",
       "            </div>\n",
       "        "
      ],
      "text/plain": [
       "<pyspark.sql.session.SparkSession at 0x21b483d7ee0>"
      ]
     },
     "execution_count": 2,
     "metadata": {},
     "output_type": "execute_result"
    }
   ],
   "source": [
    "spark"
   ]
  },
  {
   "attachments": {},
   "cell_type": "markdown",
   "metadata": {},
   "source": [
    "# Importando dados"
   ]
  },
  {
   "cell_type": "code",
   "execution_count": 3,
   "metadata": {},
   "outputs": [
    {
     "name": "stdout",
     "output_type": "stream",
     "text": [
      "+----------+------------+------------+------------+-------------+---------+--------------------+----+--------------------+--------------------+--------------------+---------------+\n",
      "|       _c0|         _c1|         _c2|         _c3|          _c4|      _c5|                 _c6| _c7|                 _c8|                 _c9|                _c10|           _c11|\n",
      "+----------+------------+------------+------------+-------------+---------+--------------------+----+--------------------+--------------------+--------------------+---------------+\n",
      "|UsageClass|CheckoutType|MaterialType|CheckoutYear|CheckoutMonth|Checkouts|               Title|ISBN|             Creator|            Subjects|           Publisher|PublicationYear|\n",
      "|  Physical|     Horizon|        BOOK|        2007|           12|        1|Opposite the Cros...|null|       Haymon, S. T.|Haymon S T Childh...| St. Martin's Press,|         c1988.|\n",
      "|  Physical|     Horizon|        BOOK|        2007|           12|        1| Power of persuasion|null|                null|Love stories, Pol...|                null|           null|\n",
      "|  Physical|     Horizon|        BOOK|        2007|           12|        1|Cinema nirvana en...|null|                null|Motion pictures M...|                null|           null|\n",
      "|  Physical|     Horizon|        BOOK|        2007|           12|        2| Nepodvedennye itogi|null|                null|Riazanov Eldar, M...|                null|           null|\n",
      "|  Physical|     Horizon|   VIDEODISC|        2007|           12|        4|Xu Zhian He Yunsh...|null|                null|Popular music Chi...|                null|           null|\n",
      "|  Physical|     Horizon|        BOOK|        2007|           12|        8|Adverbs / Daniel ...|null|     Handler, Daniel|        Love stories|               Ecco,|         c2006.|\n",
      "|  Physical|     Horizon|   SOUNDDISC|        2007|           12|        4|      Empress Orchid|null|                null|Historical fictio...|                null|           null|\n",
      "|  Physical|     Horizon|        BOOK|        2007|           12|        3|Back to school wi...|null|Haywood, Carolyn,...|                null|     Harcourt, Brace|         [1943]|\n",
      "|  Physical|     Horizon|        BOOK|        2007|           12|        3|Hidden Oregon the...|null|                null|Oregon Guidebooks...|                null|           null|\n",
      "|  Physical|     Horizon|   VIDEODISC|        2007|           12|        9|Ballykissangel. S...|null|                null|Ireland Drama, Ca...|BBC Video : Distr...|         c2003.|\n",
      "|  Physical|     Horizon|        BOOK|        2007|           12|        1|Kremlin gold : 1,...|null|                null|Gosudarstvennaia ...|Distributed by H....|         c2000.|\n",
      "|  Physical|     Horizon|        BOOK|        2007|           12|        2|       Final verdict|null|                null|Mystery fiction, ...|                null|           null|\n",
      "|  Physical|     Horizon|   VIDEOCASS|        2007|           12|        1|        Undercurrent|null|                null|       Feature films|                null|           null|\n",
      "|  Physical|     Horizon|        BOOK|        2007|           12|        1|          Summertime|null|                null|Suspense fiction,...|                null|           null|\n",
      "|  Physical|     Horizon|        BOOK|        2007|           12|        4|    Unshapely things|null|                null|     Fantasy fiction|                null|           null|\n",
      "|  Physical|     Horizon|        BOOK|        2007|           12|        1|      psoriasis cure|null|                null|Psoriasis Treatme...|                null|           null|\n",
      "|  Physical|     Horizon|        BOOK|        2007|           12|        7|The story of arch...|null|   Glancey, Jonathan|Architecture History| Dorling Kindersley,|          2000.|\n",
      "|  Physical|     Horizon|        BOOK|        2007|           12|        4|courage to teach ...|null|                null|Teaching, Teacher...|                null|           null|\n",
      "|  Physical|     Horizon|   VIDEODISC|        2007|           12|       17|Mrs. Miniver [vid...|null|                null|Middle class fami...|  Warner Home Video,| [2004], c1942.|\n",
      "+----------+------------+------------+------------+-------------+---------+--------------------+----+--------------------+--------------------+--------------------+---------------+\n",
      "only showing top 20 rows\n",
      "\n"
     ]
    }
   ],
   "source": [
    "seattle_library = spark.read.csv('Datasets\\Checkouts_by_Title.csv')\n",
    "seattle_library.show()"
   ]
  },
  {
   "cell_type": "code",
   "execution_count": 14,
   "metadata": {},
   "outputs": [
    {
     "data": {
      "text/plain": [
       "['UsageClass',\n",
       " 'CheckoutType',\n",
       " 'MaterialType',\n",
       " 'CheckoutYear',\n",
       " 'CheckoutMonth',\n",
       " 'Checkouts',\n",
       " 'Title',\n",
       " 'ISBN',\n",
       " 'Creator',\n",
       " 'Subjects',\n",
       " 'Publisher',\n",
       " 'PublicationYear']"
      ]
     },
     "execution_count": 14,
     "metadata": {},
     "output_type": "execute_result"
    }
   ],
   "source": [
    "colunas = list(seattle_library.limit(5).toPandas().iloc[0,:])\n",
    "colunas"
   ]
  },
  {
   "cell_type": "code",
   "execution_count": 15,
   "metadata": {},
   "outputs": [
    {
     "name": "stdout",
     "output_type": "stream",
     "text": [
      "+----------+------------+------------+------------+-------------+---------+--------------------+----+--------------------+--------------------+--------------------+---------------+\n",
      "|UsageClass|CheckoutType|MaterialType|CheckoutYear|CheckoutMonth|Checkouts|               Title|ISBN|             Creator|            Subjects|           Publisher|PublicationYear|\n",
      "+----------+------------+------------+------------+-------------+---------+--------------------+----+--------------------+--------------------+--------------------+---------------+\n",
      "|UsageClass|CheckoutType|MaterialType|CheckoutYear|CheckoutMonth|Checkouts|               Title|ISBN|             Creator|            Subjects|           Publisher|PublicationYear|\n",
      "|  Physical|     Horizon|        BOOK|        2007|           12|        1|Opposite the Cros...|null|       Haymon, S. T.|Haymon S T Childh...| St. Martin's Press,|         c1988.|\n",
      "|  Physical|     Horizon|        BOOK|        2007|           12|        1| Power of persuasion|null|                null|Love stories, Pol...|                null|           null|\n",
      "|  Physical|     Horizon|        BOOK|        2007|           12|        1|Cinema nirvana en...|null|                null|Motion pictures M...|                null|           null|\n",
      "|  Physical|     Horizon|        BOOK|        2007|           12|        2| Nepodvedennye itogi|null|                null|Riazanov Eldar, M...|                null|           null|\n",
      "|  Physical|     Horizon|   VIDEODISC|        2007|           12|        4|Xu Zhian He Yunsh...|null|                null|Popular music Chi...|                null|           null|\n",
      "|  Physical|     Horizon|        BOOK|        2007|           12|        8|Adverbs / Daniel ...|null|     Handler, Daniel|        Love stories|               Ecco,|         c2006.|\n",
      "|  Physical|     Horizon|   SOUNDDISC|        2007|           12|        4|      Empress Orchid|null|                null|Historical fictio...|                null|           null|\n",
      "|  Physical|     Horizon|        BOOK|        2007|           12|        3|Back to school wi...|null|Haywood, Carolyn,...|                null|     Harcourt, Brace|         [1943]|\n",
      "|  Physical|     Horizon|        BOOK|        2007|           12|        3|Hidden Oregon the...|null|                null|Oregon Guidebooks...|                null|           null|\n",
      "|  Physical|     Horizon|   VIDEODISC|        2007|           12|        9|Ballykissangel. S...|null|                null|Ireland Drama, Ca...|BBC Video : Distr...|         c2003.|\n",
      "|  Physical|     Horizon|        BOOK|        2007|           12|        1|Kremlin gold : 1,...|null|                null|Gosudarstvennaia ...|Distributed by H....|         c2000.|\n",
      "|  Physical|     Horizon|        BOOK|        2007|           12|        2|       Final verdict|null|                null|Mystery fiction, ...|                null|           null|\n",
      "|  Physical|     Horizon|   VIDEOCASS|        2007|           12|        1|        Undercurrent|null|                null|       Feature films|                null|           null|\n",
      "|  Physical|     Horizon|        BOOK|        2007|           12|        1|          Summertime|null|                null|Suspense fiction,...|                null|           null|\n",
      "|  Physical|     Horizon|        BOOK|        2007|           12|        4|    Unshapely things|null|                null|     Fantasy fiction|                null|           null|\n",
      "|  Physical|     Horizon|        BOOK|        2007|           12|        1|      psoriasis cure|null|                null|Psoriasis Treatme...|                null|           null|\n",
      "|  Physical|     Horizon|        BOOK|        2007|           12|        7|The story of arch...|null|   Glancey, Jonathan|Architecture History| Dorling Kindersley,|          2000.|\n",
      "|  Physical|     Horizon|        BOOK|        2007|           12|        4|courage to teach ...|null|                null|Teaching, Teacher...|                null|           null|\n",
      "|  Physical|     Horizon|   VIDEODISC|        2007|           12|       17|Mrs. Miniver [vid...|null|                null|Middle class fami...|  Warner Home Video,| [2004], c1942.|\n",
      "+----------+------------+------------+------------+-------------+---------+--------------------+----+--------------------+--------------------+--------------------+---------------+\n",
      "only showing top 20 rows\n",
      "\n"
     ]
    }
   ],
   "source": [
    "for index, colName in enumerate(colunas):\n",
    "    seattle_library = seattle_library.withColumnRenamed(f'_c{index}', colName)\n",
    "\n",
    "seattle_library.show()"
   ]
  },
  {
   "cell_type": "code",
   "execution_count": 41,
   "metadata": {},
   "outputs": [
    {
     "name": "stdout",
     "output_type": "stream",
     "text": [
      "root\n",
      " |-- UsageClass: string (nullable = true)\n",
      " |-- CheckoutType: string (nullable = true)\n",
      " |-- MaterialType: string (nullable = true)\n",
      " |-- CheckoutYear: string (nullable = true)\n",
      " |-- CheckoutMonth: string (nullable = true)\n",
      " |-- Checkouts: string (nullable = true)\n",
      " |-- Title: string (nullable = true)\n",
      " |-- ISBN: string (nullable = true)\n",
      " |-- Creator: string (nullable = true)\n",
      " |-- Subjects: string (nullable = true)\n",
      " |-- Publisher: string (nullable = true)\n",
      " |-- PublicationYear: string (nullable = true)\n",
      "\n"
     ]
    }
   ],
   "source": [
    "seattle_library.printSchema()"
   ]
  },
  {
   "cell_type": "code",
   "execution_count": 42,
   "metadata": {},
   "outputs": [
    {
     "name": "stdout",
     "output_type": "stream",
     "text": [
      "+----------+------------+------------+------------+-------------+---------+--------------------+----+-------------+--------------------+-------------------+---------------+\n",
      "|UsageClass|CheckoutType|MaterialType|CheckoutYear|CheckoutMonth|Checkouts|               Title|ISBN|      Creator|            Subjects|          Publisher|PublicationYear|\n",
      "+----------+------------+------------+------------+-------------+---------+--------------------+----+-------------+--------------------+-------------------+---------------+\n",
      "|UsageClass|CheckoutType|MaterialType|CheckoutYear|CheckoutMonth|Checkouts|               Title|ISBN|      Creator|            Subjects|          Publisher|PublicationYear|\n",
      "|  Physical|     Horizon|        BOOK|        2007|           12|        1|Opposite the Cros...|null|Haymon, S. T.|Haymon S T Childh...|St. Martin's Press,|         c1988.|\n",
      "|  Physical|     Horizon|        BOOK|        2007|           12|        1| Power of persuasion|null|         null|Love stories, Pol...|               null|           null|\n",
      "|  Physical|     Horizon|        BOOK|        2007|           12|        1|Cinema nirvana en...|null|         null|Motion pictures M...|               null|           null|\n",
      "|  Physical|     Horizon|        BOOK|        2007|           12|        2| Nepodvedennye itogi|null|         null|Riazanov Eldar, M...|               null|           null|\n",
      "+----------+------------+------------+------------+-------------+---------+--------------------+----+-------------+--------------------+-------------------+---------------+\n",
      "\n"
     ]
    }
   ],
   "source": [
    "df = seattle_library.limit(5)\n",
    "df.show()"
   ]
  },
  {
   "cell_type": "code",
   "execution_count": null,
   "metadata": {},
   "outputs": [],
   "source": []
  }
 ],
 "metadata": {
  "kernelspec": {
   "display_name": "Python 3",
   "language": "python",
   "name": "python3"
  },
  "language_info": {
   "codemirror_mode": {
    "name": "ipython",
    "version": 3
   },
   "file_extension": ".py",
   "mimetype": "text/x-python",
   "name": "python",
   "nbconvert_exporter": "python",
   "pygments_lexer": "ipython3",
   "version": "3.9.13"
  },
  "orig_nbformat": 4,
  "vscode": {
   "interpreter": {
    "hash": "c89dac2000cd39b6c6afdbb40384525553e908a214fa5e3caa43ad6708c415f4"
   }
  }
 },
 "nbformat": 4,
 "nbformat_minor": 2
}
